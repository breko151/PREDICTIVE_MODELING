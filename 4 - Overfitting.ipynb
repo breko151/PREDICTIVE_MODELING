{
 "cells": [
  {
   "cell_type": "code",
   "execution_count": 1,
   "metadata": {},
   "outputs": [],
   "source": [
    "# Execute if necessary\n",
    "# %%capture\n",
    "# !pip install numpy seaborn matplotlib pandas openml"
   ]
  },
  {
   "cell_type": "code",
   "execution_count": 2,
   "metadata": {},
   "outputs": [],
   "source": [
    "import numpy as np\n",
    "import seaborn as sns\n",
    "import matplotlib.pyplot as plt\n",
    "import pandas as pd\n",
    "from typing import Dict, Tuple, Union, List\n",
    "import openml\n",
    "import sklearn"
   ]
  },
  {
   "cell_type": "markdown",
   "metadata": {},
   "source": [
    "# Práctica 4: Overfitting"
   ]
  },
  {
   "cell_type": "markdown",
   "metadata": {},
   "source": [
    "__Instrucciones__: A continuación hay una lista de funciones que debe implementar o tareas que debe desarrollar. La descripción de cada una de ellas se encuentra en la definición de cada una de las funciones. Cada función está marcada por &#x1F625;,  &#x1F643; o &#x1F921;. Las marcas indican:\n",
    "\n",
    "- &#x1F625;: Indican una entrega que debe ser hecha dentro de la misma sesión de la asignación. \n",
    "- &#x1F643;: Indican una entrega que puede ser hecha hasta la siguiente sesión.\n",
    "- &#x1F921;: Debe mostrar un avance en la misma sesión, pero la entrega puede ser hecha en la siguiente.\n",
    "\n",
    "Aquellas entregas parciales que no sean hechas el día de la asignación ya no serán válidas para las entregas totales, sin embargo, las entregas totales seguirán siendo válidas."
   ]
  },
  {
   "cell_type": "markdown",
   "metadata": {},
   "source": [
    "En esta sección se incluye un dataset real. El dataset importado se llama LDPA y puede leer su descripción en la siguiente liga\n",
    "\n",
    "https://www.openml.org/d/1483"
   ]
  },
  {
   "cell_type": "code",
   "execution_count": 3,
   "metadata": {},
   "outputs": [],
   "source": [
    "# Descarga la metadata del dataset\n",
    "dataset_info = openml.datasets.get_dataset(1483, download_data=False)\n",
    "\n",
    "# Obtiene el nombre de la columna a predecir\n",
    "target = dataset_info.default_target_attribute\n",
    "\n",
    "(\n",
    "    features, # Dataframe con las características que se pueden utilizar para predecir\n",
    "    outputs, # Columna a predecir\n",
    "    categorical_mask, # Máscara que indica que columnas de todas las características son categoricas\n",
    "    columns # Lista con el nombre de las características\n",
    ")= dataset_info.get_data(\n",
    "    dataset_format=\"dataframe\", target=target\n",
    ")\n",
    "\n",
    "categorical_mask = np.array(categorical_mask)\n",
    "columns = np.array(columns)"
   ]
  },
  {
   "cell_type": "code",
   "execution_count": 4,
   "metadata": {},
   "outputs": [
    {
     "name": "stdout",
     "output_type": "stream",
     "text": [
      "La columna a predecir se llama 'Class'\n",
      "Todas las características son ['V1' 'V2' 'V3' 'V4' 'V5' 'V6' 'V7']\n",
      "Las características categóricas son ['V1' 'V2']\n",
      "Las características numéricas son ['V3' 'V4' 'V5' 'V6' 'V7']\n"
     ]
    }
   ],
   "source": [
    "print(f\"La columna a predecir se llama '{target}'\")\n",
    "print(f\"Todas las características son {str(columns)}\")\n",
    "print(f\"Las características categóricas son {str(columns[categorical_mask])}\")\n",
    "print(f\"Las características numéricas son {str(columns[~categorical_mask])}\")"
   ]
  },
  {
   "cell_type": "code",
   "execution_count": 5,
   "metadata": {},
   "outputs": [
    {
     "data": {
      "text/html": [
       "<div>\n",
       "<style scoped>\n",
       "    .dataframe tbody tr th:only-of-type {\n",
       "        vertical-align: middle;\n",
       "    }\n",
       "\n",
       "    .dataframe tbody tr th {\n",
       "        vertical-align: top;\n",
       "    }\n",
       "\n",
       "    .dataframe thead th {\n",
       "        text-align: right;\n",
       "    }\n",
       "</style>\n",
       "<table border=\"1\" class=\"dataframe\">\n",
       "  <thead>\n",
       "    <tr style=\"text-align: right;\">\n",
       "      <th></th>\n",
       "      <th>V1</th>\n",
       "      <th>V2</th>\n",
       "      <th>V3</th>\n",
       "      <th>V4</th>\n",
       "      <th>V5</th>\n",
       "      <th>V6</th>\n",
       "      <th>V7</th>\n",
       "    </tr>\n",
       "  </thead>\n",
       "  <tbody>\n",
       "    <tr>\n",
       "      <th>0</th>\n",
       "      <td>1</td>\n",
       "      <td>1</td>\n",
       "      <td>105794.0</td>\n",
       "      <td>105777.0</td>\n",
       "      <td>148933.0</td>\n",
       "      <td>108479.0</td>\n",
       "      <td>109365.0</td>\n",
       "    </tr>\n",
       "    <tr>\n",
       "      <th>1</th>\n",
       "      <td>1</td>\n",
       "      <td>4</td>\n",
       "      <td>105795.0</td>\n",
       "      <td>105778.0</td>\n",
       "      <td>155325.0</td>\n",
       "      <td>96952.0</td>\n",
       "      <td>161363.0</td>\n",
       "    </tr>\n",
       "    <tr>\n",
       "      <th>2</th>\n",
       "      <td>1</td>\n",
       "      <td>3</td>\n",
       "      <td>105796.0</td>\n",
       "      <td>105779.0</td>\n",
       "      <td>156652.0</td>\n",
       "      <td>101610.0</td>\n",
       "      <td>148870.0</td>\n",
       "    </tr>\n",
       "    <tr>\n",
       "      <th>3</th>\n",
       "      <td>1</td>\n",
       "      <td>1</td>\n",
       "      <td>105797.0</td>\n",
       "      <td>105780.0</td>\n",
       "      <td>149736.0</td>\n",
       "      <td>107135.0</td>\n",
       "      <td>102479.0</td>\n",
       "    </tr>\n",
       "    <tr>\n",
       "      <th>4</th>\n",
       "      <td>1</td>\n",
       "      <td>2</td>\n",
       "      <td>105798.0</td>\n",
       "      <td>105781.0</td>\n",
       "      <td>155978.0</td>\n",
       "      <td>125455.0</td>\n",
       "      <td>106203.0</td>\n",
       "    </tr>\n",
       "    <tr>\n",
       "      <th>...</th>\n",
       "      <td>...</td>\n",
       "      <td>...</td>\n",
       "      <td>...</td>\n",
       "      <td>...</td>\n",
       "      <td>...</td>\n",
       "      <td>...</td>\n",
       "      <td>...</td>\n",
       "    </tr>\n",
       "    <tr>\n",
       "      <th>164855</th>\n",
       "      <td>5</td>\n",
       "      <td>2</td>\n",
       "      <td>43687.0</td>\n",
       "      <td>43679.0</td>\n",
       "      <td>106611.0</td>\n",
       "      <td>123166.0</td>\n",
       "      <td>12432.0</td>\n",
       "    </tr>\n",
       "    <tr>\n",
       "      <th>164856</th>\n",
       "      <td>5</td>\n",
       "      <td>1</td>\n",
       "      <td>43688.0</td>\n",
       "      <td>43680.0</td>\n",
       "      <td>120821.0</td>\n",
       "      <td>119848.0</td>\n",
       "      <td>87463.0</td>\n",
       "    </tr>\n",
       "    <tr>\n",
       "      <th>164857</th>\n",
       "      <td>5</td>\n",
       "      <td>4</td>\n",
       "      <td>43689.0</td>\n",
       "      <td>43681.0</td>\n",
       "      <td>104999.0</td>\n",
       "      <td>110823.0</td>\n",
       "      <td>161536.0</td>\n",
       "    </tr>\n",
       "    <tr>\n",
       "      <th>164858</th>\n",
       "      <td>5</td>\n",
       "      <td>2</td>\n",
       "      <td>43690.0</td>\n",
       "      <td>43682.0</td>\n",
       "      <td>102191.0</td>\n",
       "      <td>112520.0</td>\n",
       "      <td>10811.0</td>\n",
       "    </tr>\n",
       "    <tr>\n",
       "      <th>164859</th>\n",
       "      <td>5</td>\n",
       "      <td>1</td>\n",
       "      <td>43691.0</td>\n",
       "      <td>43683.0</td>\n",
       "      <td>106656.0</td>\n",
       "      <td>113422.0</td>\n",
       "      <td>80572.0</td>\n",
       "    </tr>\n",
       "  </tbody>\n",
       "</table>\n",
       "<p>164860 rows × 7 columns</p>\n",
       "</div>"
      ],
      "text/plain": [
       "       V1 V2        V3        V4        V5        V6        V7\n",
       "0       1  1  105794.0  105777.0  148933.0  108479.0  109365.0\n",
       "1       1  4  105795.0  105778.0  155325.0   96952.0  161363.0\n",
       "2       1  3  105796.0  105779.0  156652.0  101610.0  148870.0\n",
       "3       1  1  105797.0  105780.0  149736.0  107135.0  102479.0\n",
       "4       1  2  105798.0  105781.0  155978.0  125455.0  106203.0\n",
       "...    .. ..       ...       ...       ...       ...       ...\n",
       "164855  5  2   43687.0   43679.0  106611.0  123166.0   12432.0\n",
       "164856  5  1   43688.0   43680.0  120821.0  119848.0   87463.0\n",
       "164857  5  4   43689.0   43681.0  104999.0  110823.0  161536.0\n",
       "164858  5  2   43690.0   43682.0  102191.0  112520.0   10811.0\n",
       "164859  5  1   43691.0   43683.0  106656.0  113422.0   80572.0\n",
       "\n",
       "[164860 rows x 7 columns]"
      ]
     },
     "execution_count": 5,
     "metadata": {},
     "output_type": "execute_result"
    }
   ],
   "source": [
    "# Impresión de las características\n",
    "features"
   ]
  },
  {
   "cell_type": "code",
   "execution_count": 6,
   "metadata": {},
   "outputs": [
    {
     "data": {
      "text/plain": [
       "0         3\n",
       "1         3\n",
       "2         3\n",
       "3         3\n",
       "4         3\n",
       "         ..\n",
       "164855    3\n",
       "164856    3\n",
       "164857    3\n",
       "164858    3\n",
       "164859    3\n",
       "Name: Class, Length: 164860, dtype: category\n",
       "Categories (11, object): ['1' < '2' < '3' < '4' ... '8' < '9' < '10' < '11']"
      ]
     },
     "execution_count": 6,
     "metadata": {},
     "output_type": "execute_result"
    }
   ],
   "source": [
    "outputs"
   ]
  },
  {
   "cell_type": "markdown",
   "metadata": {},
   "source": [
    "A continuación se realiza la partición de __train__ y __test__. __No debe utilizar la partición de test por ningún motivo__."
   ]
  },
  {
   "cell_type": "code",
   "execution_count": 7,
   "metadata": {},
   "outputs": [],
   "source": [
    "X_train, X_test, y_train, y_test = sklearn.model_selection.train_test_split(\n",
    "    features, \n",
    "    outputs, \n",
    "    test_size=0.5, \n",
    "    random_state=11\n",
    ")"
   ]
  },
  {
   "cell_type": "markdown",
   "metadata": {},
   "source": [
    "## Asignación 1 &#x1F921;\n",
    "\n",
    "Utilizando las técnicas vistas en clase, realicé su mejor esfuerzo para obtener el mejor modelo lineal posible utilizando __únicamente el conjunto de entrenamiento__ (X_train y y_train). Puede utilizar bibliotecas, pero únicamente las técnicas vistas en clase y debe ir generando métricas o visualizaciones que respalden su toma de decisiones. Debe tener e imprimir una estimación de $E_{out}$ utilizando su conjunto de entrenamiento. La métrica utilizada será la entropía cruzada."
   ]
  },
  {
   "cell_type": "markdown",
   "metadata": {},
   "source": [
    "## EDA"
   ]
  },
  {
   "cell_type": "code",
   "execution_count": 8,
   "metadata": {},
   "outputs": [],
   "source": [
    "def calc_skewness(x):\n",
    "    return (((x - x.mean()) / (x.std())) ** 3).mean()"
   ]
  },
  {
   "cell_type": "code",
   "execution_count": 9,
   "metadata": {},
   "outputs": [],
   "source": [
    "def plot_hist(column):\n",
    "    skewness = calc_skewness(column)\n",
    "    __fig__, __axs__ = plt.subplots(ncols=1, figsize=(15, 5))\n",
    "    __fig__.subplots_adjust(hspace=0.1, wspace=0.3)\n",
    "    \n",
    "    __axs__.set(title=\"Column (mean = {}, std = {}, skewness = {})\".format(round(column.mean(), 2), round(column.std(), 2), round(skewness, 2)))\n",
    "    _ = sns.histplot(x=column, ax=__axs__)\n",
    "    _.axvline(x=column.mean(),\n",
    "                color='blue',\n",
    "                ls='--', \n",
    "                lw=2.5)"
   ]
  },
  {
   "cell_type": "code",
   "execution_count": 10,
   "metadata": {},
   "outputs": [
    {
     "data": {
      "text/plain": [
       "V1    0\n",
       "V2    0\n",
       "V3    0\n",
       "V4    0\n",
       "V5    0\n",
       "V6    0\n",
       "V7    0\n",
       "dtype: int64"
      ]
     },
     "execution_count": 10,
     "metadata": {},
     "output_type": "execute_result"
    }
   ],
   "source": [
    "X_train.isnull().sum()"
   ]
  },
  {
   "cell_type": "markdown",
   "metadata": {},
   "source": [
    "### Histogramas"
   ]
  },
  {
   "cell_type": "code",
   "execution_count": 11,
   "metadata": {},
   "outputs": [
    {
     "data": {
      "image/png": "[encoded data removed]",
      "text/plain": [
       "<Figure size 1080x360 with 1 Axes>"
      ]
     },
     "metadata": {
      "needs_background": "light"
     },
     "output_type": "display_data"
    }
   ],
   "source": [
    "plot_hist(X_train.V3)"
   ]
  },
  {
   "cell_type": "code",
   "execution_count": 12,
   "metadata": {},
   "outputs": [
    {
     "data": {
      "image/png": "[encoded data removed]",
      "text/plain": [
       "<Figure size 1080x360 with 1 Axes>"
      ]
     },
     "metadata": {
      "needs_background": "light"
     },
     "output_type": "display_data"
    }
   ],
   "source": [
    "plot_hist(X_train.V4)"
   ]
  },
  {
   "cell_type": "code",
   "execution_count": 13,
   "metadata": {},
   "outputs": [
    {
     "data": {
      "image/png": "[encoded data removed]",
      "text/plain": [
       "<Figure size 1080x360 with 1 Axes>"
      ]
     },
     "metadata": {
      "needs_background": "light"
     },
     "output_type": "display_data"
    }
   ],
   "source": [
    "plot_hist(X_train.V5)"
   ]
  },
  {
   "cell_type": "code",
   "execution_count": 14,
   "metadata": {
    "scrolled": true
   },
   "outputs": [
    {
     "data": {
      "image/png": "[encoded data removed]",
      "text/plain": [
       "<Figure size 1080x360 with 1 Axes>"
      ]
     },
     "metadata": {
      "needs_background": "light"
     },
     "output_type": "display_data"
    }
   ],
   "source": [
    "plot_hist(X_train.V6)"
   ]
  },
  {
   "cell_type": "code",
   "execution_count": 15,
   "metadata": {},
   "outputs": [
    {
     "data": {
      "image/png": "[encoded data removed]",
      "text/plain": [
       "<Figure size 1080x360 with 1 Axes>"
      ]
     },
     "metadata": {
      "needs_background": "light"
     },
     "output_type": "display_data"
    }
   ],
   "source": [
    "plot_hist(X_train.V7)"
   ]
  },
  {
   "cell_type": "markdown",
   "metadata": {},
   "source": [
    "## Preprocesamiento"
   ]
  },
  {
   "cell_type": "code",
   "execution_count": 20,
   "metadata": {},
   "outputs": [],
   "source": [
    "import copy"
   ]
  },
  {
   "cell_type": "code",
   "execution_count": 21,
   "metadata": {},
   "outputs": [],
   "source": [
    "from sklearn.preprocessing import StandardScaler, MinMaxScaler\n",
    "\n",
    "def scale_features(X_train, X_test, to_scale):\n",
    "    scaler = MinMaxScaler()\n",
    "    scaler.fit(X_train[to_scale])\n",
    "    train_scaled = scaler.transform(X_train[to_scale])\n",
    "    test_scaled = scaler.transform(X_test[to_scale])\n",
    "    \n",
    "    return train_scaled, test_scaled"
   ]
  },
  {
   "cell_type": "code",
   "execution_count": 22,
   "metadata": {},
   "outputs": [],
   "source": [
    "def ohe(df, columns):\n",
    "    for column in columns:\n",
    "        column_encoded = pd.get_dummies(pd.Series(df[column]))\n",
    "        df[['{}_'.format(column) + str(c) for c in list(column_encoded.columns.values)]] = column_encoded\n",
    "        df = df.drop(columns = column)\n",
    "        \n",
    "    return df"
   ]
  },
  {
   "cell_type": "markdown",
   "metadata": {},
   "source": [
    "### Aplicamos OneHotEncoding"
   ]
  },
  {
   "cell_type": "code",
   "execution_count": 23,
   "metadata": {},
   "outputs": [],
   "source": [
    "columns_to_encode = ['V1', 'V2']"
   ]
  },
  {
   "cell_type": "code",
   "execution_count": 24,
   "metadata": {},
   "outputs": [],
   "source": [
    "X_train_ohe = ohe(copy.deepcopy(X_train), columns_to_encode)"
   ]
  },
  {
   "cell_type": "code",
   "execution_count": 25,
   "metadata": {},
   "outputs": [
    {
     "data": {
      "text/html": [
       "<div>\n",
       "<style scoped>\n",
       "    .dataframe tbody tr th:only-of-type {\n",
       "        vertical-align: middle;\n",
       "    }\n",
       "\n",
       "    .dataframe tbody tr th {\n",
       "        vertical-align: top;\n",
       "    }\n",
       "\n",
       "    .dataframe thead th {\n",
       "        text-align: right;\n",
       "    }\n",
       "</style>\n",
       "<table border=\"1\" class=\"dataframe\">\n",
       "  <thead>\n",
       "    <tr style=\"text-align: right;\">\n",
       "      <th></th>\n",
       "      <th>V3</th>\n",
       "      <th>V4</th>\n",
       "      <th>V5</th>\n",
       "      <th>V6</th>\n",
       "      <th>V7</th>\n",
       "      <th>V1_1</th>\n",
       "      <th>V1_2</th>\n",
       "      <th>V1_3</th>\n",
       "      <th>V1_4</th>\n",
       "      <th>V1_5</th>\n",
       "      <th>V2_1</th>\n",
       "      <th>V2_2</th>\n",
       "      <th>V2_3</th>\n",
       "      <th>V2_4</th>\n",
       "    </tr>\n",
       "  </thead>\n",
       "  <tbody>\n",
       "    <tr>\n",
       "      <th>82677</th>\n",
       "      <td>158321.0</td>\n",
       "      <td>158297.0</td>\n",
       "      <td>72476.0</td>\n",
       "      <td>106489.0</td>\n",
       "      <td>146328.0</td>\n",
       "      <td>0</td>\n",
       "      <td>0</td>\n",
       "      <td>1</td>\n",
       "      <td>0</td>\n",
       "      <td>0</td>\n",
       "      <td>0</td>\n",
       "      <td>0</td>\n",
       "      <td>1</td>\n",
       "      <td>0</td>\n",
       "    </tr>\n",
       "    <tr>\n",
       "      <th>2843</th>\n",
       "      <td>108637.0</td>\n",
       "      <td>108619.0</td>\n",
       "      <td>135179.0</td>\n",
       "      <td>75851.0</td>\n",
       "      <td>79479.0</td>\n",
       "      <td>1</td>\n",
       "      <td>0</td>\n",
       "      <td>0</td>\n",
       "      <td>0</td>\n",
       "      <td>0</td>\n",
       "      <td>1</td>\n",
       "      <td>0</td>\n",
       "      <td>0</td>\n",
       "      <td>0</td>\n",
       "    </tr>\n",
       "    <tr>\n",
       "      <th>50670</th>\n",
       "      <td>98841.0</td>\n",
       "      <td>98825.0</td>\n",
       "      <td>76316.0</td>\n",
       "      <td>137080.0</td>\n",
       "      <td>101775.0</td>\n",
       "      <td>0</td>\n",
       "      <td>1</td>\n",
       "      <td>0</td>\n",
       "      <td>0</td>\n",
       "      <td>0</td>\n",
       "      <td>0</td>\n",
       "      <td>1</td>\n",
       "      <td>0</td>\n",
       "      <td>0</td>\n",
       "    </tr>\n",
       "    <tr>\n",
       "      <th>128441</th>\n",
       "      <td>7274.0</td>\n",
       "      <td>7273.0</td>\n",
       "      <td>97161.0</td>\n",
       "      <td>128160.0</td>\n",
       "      <td>137973.0</td>\n",
       "      <td>0</td>\n",
       "      <td>0</td>\n",
       "      <td>0</td>\n",
       "      <td>0</td>\n",
       "      <td>1</td>\n",
       "      <td>0</td>\n",
       "      <td>0</td>\n",
       "      <td>0</td>\n",
       "      <td>1</td>\n",
       "    </tr>\n",
       "    <tr>\n",
       "      <th>10592</th>\n",
       "      <td>116386.0</td>\n",
       "      <td>116368.0</td>\n",
       "      <td>70382.0</td>\n",
       "      <td>140689.0</td>\n",
       "      <td>119402.0</td>\n",
       "      <td>1</td>\n",
       "      <td>0</td>\n",
       "      <td>0</td>\n",
       "      <td>0</td>\n",
       "      <td>0</td>\n",
       "      <td>0</td>\n",
       "      <td>1</td>\n",
       "      <td>0</td>\n",
       "      <td>0</td>\n",
       "    </tr>\n",
       "    <tr>\n",
       "      <th>...</th>\n",
       "      <td>...</td>\n",
       "      <td>...</td>\n",
       "      <td>...</td>\n",
       "      <td>...</td>\n",
       "      <td>...</td>\n",
       "      <td>...</td>\n",
       "      <td>...</td>\n",
       "      <td>...</td>\n",
       "      <td>...</td>\n",
       "      <td>...</td>\n",
       "      <td>...</td>\n",
       "      <td>...</td>\n",
       "      <td>...</td>\n",
       "      <td>...</td>\n",
       "    </tr>\n",
       "    <tr>\n",
       "      <th>102327</th>\n",
       "      <td>56803.0</td>\n",
       "      <td>56792.0</td>\n",
       "      <td>146134.0</td>\n",
       "      <td>114564.0</td>\n",
       "      <td>47575.0</td>\n",
       "      <td>0</td>\n",
       "      <td>0</td>\n",
       "      <td>0</td>\n",
       "      <td>1</td>\n",
       "      <td>0</td>\n",
       "      <td>0</td>\n",
       "      <td>1</td>\n",
       "      <td>0</td>\n",
       "      <td>0</td>\n",
       "    </tr>\n",
       "    <tr>\n",
       "      <th>97617</th>\n",
       "      <td>52093.0</td>\n",
       "      <td>52085.0</td>\n",
       "      <td>54989.0</td>\n",
       "      <td>81198.0</td>\n",
       "      <td>26584.0</td>\n",
       "      <td>0</td>\n",
       "      <td>0</td>\n",
       "      <td>0</td>\n",
       "      <td>1</td>\n",
       "      <td>0</td>\n",
       "      <td>0</td>\n",
       "      <td>1</td>\n",
       "      <td>0</td>\n",
       "      <td>0</td>\n",
       "    </tr>\n",
       "    <tr>\n",
       "      <th>21584</th>\n",
       "      <td>127378.0</td>\n",
       "      <td>127358.0</td>\n",
       "      <td>44795.0</td>\n",
       "      <td>105412.0</td>\n",
       "      <td>49255.0</td>\n",
       "      <td>1</td>\n",
       "      <td>0</td>\n",
       "      <td>0</td>\n",
       "      <td>0</td>\n",
       "      <td>0</td>\n",
       "      <td>1</td>\n",
       "      <td>0</td>\n",
       "      <td>0</td>\n",
       "      <td>0</td>\n",
       "    </tr>\n",
       "    <tr>\n",
       "      <th>36543</th>\n",
       "      <td>84714.0</td>\n",
       "      <td>84700.0</td>\n",
       "      <td>59207.0</td>\n",
       "      <td>33106.0</td>\n",
       "      <td>114460.0</td>\n",
       "      <td>0</td>\n",
       "      <td>1</td>\n",
       "      <td>0</td>\n",
       "      <td>0</td>\n",
       "      <td>0</td>\n",
       "      <td>0</td>\n",
       "      <td>1</td>\n",
       "      <td>0</td>\n",
       "      <td>0</td>\n",
       "    </tr>\n",
       "    <tr>\n",
       "      <th>141209</th>\n",
       "      <td>20042.0</td>\n",
       "      <td>20038.0</td>\n",
       "      <td>51811.0</td>\n",
       "      <td>160448.0</td>\n",
       "      <td>82863.0</td>\n",
       "      <td>0</td>\n",
       "      <td>0</td>\n",
       "      <td>0</td>\n",
       "      <td>0</td>\n",
       "      <td>1</td>\n",
       "      <td>1</td>\n",
       "      <td>0</td>\n",
       "      <td>0</td>\n",
       "      <td>0</td>\n",
       "    </tr>\n",
       "  </tbody>\n",
       "</table>\n",
       "<p>82430 rows × 14 columns</p>\n",
       "</div>"
      ],
      "text/plain": [
       "              V3        V4        V5        V6        V7  V1_1  V1_2  V1_3  \\\n",
       "82677   158321.0  158297.0   72476.0  106489.0  146328.0     0     0     1   \n",
       "2843    108637.0  108619.0  135179.0   75851.0   79479.0     1     0     0   \n",
       "50670    98841.0   98825.0   76316.0  137080.0  101775.0     0     1     0   \n",
       "128441    7274.0    7273.0   97161.0  128160.0  137973.0     0     0     0   \n",
       "10592   116386.0  116368.0   70382.0  140689.0  119402.0     1     0     0   \n",
       "...          ...       ...       ...       ...       ...   ...   ...   ...   \n",
       "102327   56803.0   56792.0  146134.0  114564.0   47575.0     0     0     0   \n",
       "97617    52093.0   52085.0   54989.0   81198.0   26584.0     0     0     0   \n",
       "21584   127378.0  127358.0   44795.0  105412.0   49255.0     1     0     0   \n",
       "36543    84714.0   84700.0   59207.0   33106.0  114460.0     0     1     0   \n",
       "141209   20042.0   20038.0   51811.0  160448.0   82863.0     0     0     0   \n",
       "\n",
       "        V1_4  V1_5  V2_1  V2_2  V2_3  V2_4  \n",
       "82677      0     0     0     0     1     0  \n",
       "2843       0     0     1     0     0     0  \n",
       "50670      0     0     0     1     0     0  \n",
       "128441     0     1     0     0     0     1  \n",
       "10592      0     0     0     1     0     0  \n",
       "...      ...   ...   ...   ...   ...   ...  \n",
       "102327     1     0     0     1     0     0  \n",
       "97617      1     0     0     1     0     0  \n",
       "21584      0     0     1     0     0     0  \n",
       "36543      0     0     0     1     0     0  \n",
       "141209     0     1     1     0     0     0  \n",
       "\n",
       "[82430 rows x 14 columns]"
      ]
     },
     "execution_count": 25,
     "metadata": {},
     "output_type": "execute_result"
    }
   ],
   "source": [
    "X_train_ohe"
   ]
  },
  {
   "cell_type": "code",
   "execution_count": 26,
   "metadata": {},
   "outputs": [],
   "source": [
    "X_test_ohe = ohe(copy.deepcopy(X_test), columns_to_encode)"
   ]
  },
  {
   "cell_type": "code",
   "execution_count": 27,
   "metadata": {
    "scrolled": true
   },
   "outputs": [
    {
     "data": {
      "text/html": [
       "<div>\n",
       "<style scoped>\n",
       "    .dataframe tbody tr th:only-of-type {\n",
       "        vertical-align: middle;\n",
       "    }\n",
       "\n",
       "    .dataframe tbody tr th {\n",
       "        vertical-align: top;\n",
       "    }\n",
       "\n",
       "    .dataframe thead th {\n",
       "        text-align: right;\n",
       "    }\n",
       "</style>\n",
       "<table border=\"1\" class=\"dataframe\">\n",
       "  <thead>\n",
       "    <tr style=\"text-align: right;\">\n",
       "      <th></th>\n",
       "      <th>V3</th>\n",
       "      <th>V4</th>\n",
       "      <th>V5</th>\n",
       "      <th>V6</th>\n",
       "      <th>V7</th>\n",
       "      <th>V1_1</th>\n",
       "      <th>V1_2</th>\n",
       "      <th>V1_3</th>\n",
       "      <th>V1_4</th>\n",
       "      <th>V1_5</th>\n",
       "      <th>V2_1</th>\n",
       "      <th>V2_2</th>\n",
       "      <th>V2_3</th>\n",
       "      <th>V2_4</th>\n",
       "    </tr>\n",
       "  </thead>\n",
       "  <tbody>\n",
       "    <tr>\n",
       "      <th>9783</th>\n",
       "      <td>115577.0</td>\n",
       "      <td>115559.0</td>\n",
       "      <td>90402.0</td>\n",
       "      <td>18088.0</td>\n",
       "      <td>121817.0</td>\n",
       "      <td>1</td>\n",
       "      <td>0</td>\n",
       "      <td>0</td>\n",
       "      <td>0</td>\n",
       "      <td>0</td>\n",
       "      <td>0</td>\n",
       "      <td>0</td>\n",
       "      <td>0</td>\n",
       "      <td>1</td>\n",
       "    </tr>\n",
       "    <tr>\n",
       "      <th>85013</th>\n",
       "      <td>160657.0</td>\n",
       "      <td>160632.0</td>\n",
       "      <td>5651.0</td>\n",
       "      <td>148068.0</td>\n",
       "      <td>64938.0</td>\n",
       "      <td>0</td>\n",
       "      <td>0</td>\n",
       "      <td>1</td>\n",
       "      <td>0</td>\n",
       "      <td>0</td>\n",
       "      <td>0</td>\n",
       "      <td>0</td>\n",
       "      <td>0</td>\n",
       "      <td>1</td>\n",
       "    </tr>\n",
       "    <tr>\n",
       "      <th>70883</th>\n",
       "      <td>146527.0</td>\n",
       "      <td>146506.0</td>\n",
       "      <td>27276.0</td>\n",
       "      <td>100859.0</td>\n",
       "      <td>115620.0</td>\n",
       "      <td>0</td>\n",
       "      <td>0</td>\n",
       "      <td>1</td>\n",
       "      <td>0</td>\n",
       "      <td>0</td>\n",
       "      <td>1</td>\n",
       "      <td>0</td>\n",
       "      <td>0</td>\n",
       "      <td>0</td>\n",
       "    </tr>\n",
       "    <tr>\n",
       "      <th>64466</th>\n",
       "      <td>140110.0</td>\n",
       "      <td>140090.0</td>\n",
       "      <td>17717.0</td>\n",
       "      <td>63955.0</td>\n",
       "      <td>11320.0</td>\n",
       "      <td>0</td>\n",
       "      <td>0</td>\n",
       "      <td>1</td>\n",
       "      <td>0</td>\n",
       "      <td>0</td>\n",
       "      <td>0</td>\n",
       "      <td>1</td>\n",
       "      <td>0</td>\n",
       "      <td>0</td>\n",
       "    </tr>\n",
       "    <tr>\n",
       "      <th>82448</th>\n",
       "      <td>158092.0</td>\n",
       "      <td>158068.0</td>\n",
       "      <td>399.0</td>\n",
       "      <td>161841.0</td>\n",
       "      <td>163997.0</td>\n",
       "      <td>0</td>\n",
       "      <td>0</td>\n",
       "      <td>1</td>\n",
       "      <td>0</td>\n",
       "      <td>0</td>\n",
       "      <td>0</td>\n",
       "      <td>0</td>\n",
       "      <td>0</td>\n",
       "      <td>1</td>\n",
       "    </tr>\n",
       "    <tr>\n",
       "      <th>...</th>\n",
       "      <td>...</td>\n",
       "      <td>...</td>\n",
       "      <td>...</td>\n",
       "      <td>...</td>\n",
       "      <td>...</td>\n",
       "      <td>...</td>\n",
       "      <td>...</td>\n",
       "      <td>...</td>\n",
       "      <td>...</td>\n",
       "      <td>...</td>\n",
       "      <td>...</td>\n",
       "      <td>...</td>\n",
       "      <td>...</td>\n",
       "      <td>...</td>\n",
       "    </tr>\n",
       "    <tr>\n",
       "      <th>102897</th>\n",
       "      <td>57373.0</td>\n",
       "      <td>57362.0</td>\n",
       "      <td>64919.0</td>\n",
       "      <td>55294.0</td>\n",
       "      <td>68753.0</td>\n",
       "      <td>0</td>\n",
       "      <td>0</td>\n",
       "      <td>0</td>\n",
       "      <td>1</td>\n",
       "      <td>0</td>\n",
       "      <td>1</td>\n",
       "      <td>0</td>\n",
       "      <td>0</td>\n",
       "      <td>0</td>\n",
       "    </tr>\n",
       "    <tr>\n",
       "      <th>40732</th>\n",
       "      <td>88903.0</td>\n",
       "      <td>88889.0</td>\n",
       "      <td>34335.0</td>\n",
       "      <td>31755.0</td>\n",
       "      <td>72117.0</td>\n",
       "      <td>0</td>\n",
       "      <td>1</td>\n",
       "      <td>0</td>\n",
       "      <td>0</td>\n",
       "      <td>0</td>\n",
       "      <td>0</td>\n",
       "      <td>1</td>\n",
       "      <td>0</td>\n",
       "      <td>0</td>\n",
       "    </tr>\n",
       "    <tr>\n",
       "      <th>114945</th>\n",
       "      <td>69421.0</td>\n",
       "      <td>69407.0</td>\n",
       "      <td>23650.0</td>\n",
       "      <td>37747.0</td>\n",
       "      <td>133916.0</td>\n",
       "      <td>0</td>\n",
       "      <td>0</td>\n",
       "      <td>0</td>\n",
       "      <td>1</td>\n",
       "      <td>0</td>\n",
       "      <td>0</td>\n",
       "      <td>0</td>\n",
       "      <td>1</td>\n",
       "      <td>0</td>\n",
       "    </tr>\n",
       "    <tr>\n",
       "      <th>19389</th>\n",
       "      <td>125183.0</td>\n",
       "      <td>125165.0</td>\n",
       "      <td>123080.0</td>\n",
       "      <td>18023.0</td>\n",
       "      <td>89884.0</td>\n",
       "      <td>1</td>\n",
       "      <td>0</td>\n",
       "      <td>0</td>\n",
       "      <td>0</td>\n",
       "      <td>0</td>\n",
       "      <td>0</td>\n",
       "      <td>1</td>\n",
       "      <td>0</td>\n",
       "      <td>0</td>\n",
       "    </tr>\n",
       "    <tr>\n",
       "      <th>155502</th>\n",
       "      <td>34334.0</td>\n",
       "      <td>34328.0</td>\n",
       "      <td>122908.0</td>\n",
       "      <td>162355.0</td>\n",
       "      <td>139577.0</td>\n",
       "      <td>0</td>\n",
       "      <td>0</td>\n",
       "      <td>0</td>\n",
       "      <td>0</td>\n",
       "      <td>1</td>\n",
       "      <td>0</td>\n",
       "      <td>0</td>\n",
       "      <td>0</td>\n",
       "      <td>1</td>\n",
       "    </tr>\n",
       "  </tbody>\n",
       "</table>\n",
       "<p>82430 rows × 14 columns</p>\n",
       "</div>"
      ],
      "text/plain": [
       "              V3        V4        V5        V6        V7  V1_1  V1_2  V1_3  \\\n",
       "9783    115577.0  115559.0   90402.0   18088.0  121817.0     1     0     0   \n",
       "85013   160657.0  160632.0    5651.0  148068.0   64938.0     0     0     1   \n",
       "70883   146527.0  146506.0   27276.0  100859.0  115620.0     0     0     1   \n",
       "64466   140110.0  140090.0   17717.0   63955.0   11320.0     0     0     1   \n",
       "82448   158092.0  158068.0     399.0  161841.0  163997.0     0     0     1   \n",
       "...          ...       ...       ...       ...       ...   ...   ...   ...   \n",
       "102897   57373.0   57362.0   64919.0   55294.0   68753.0     0     0     0   \n",
       "40732    88903.0   88889.0   34335.0   31755.0   72117.0     0     1     0   \n",
       "114945   69421.0   69407.0   23650.0   37747.0  133916.0     0     0     0   \n",
       "19389   125183.0  125165.0  123080.0   18023.0   89884.0     1     0     0   \n",
       "155502   34334.0   34328.0  122908.0  162355.0  139577.0     0     0     0   \n",
       "\n",
       "        V1_4  V1_5  V2_1  V2_2  V2_3  V2_4  \n",
       "9783       0     0     0     0     0     1  \n",
       "85013      0     0     0     0     0     1  \n",
       "70883      0     0     1     0     0     0  \n",
       "64466      0     0     0     1     0     0  \n",
       "82448      0     0     0     0     0     1  \n",
       "...      ...   ...   ...   ...   ...   ...  \n",
       "102897     1     0     1     0     0     0  \n",
       "40732      0     0     0     1     0     0  \n",
       "114945     1     0     0     0     1     0  \n",
       "19389      0     0     0     1     0     0  \n",
       "155502     0     1     0     0     0     1  \n",
       "\n",
       "[82430 rows x 14 columns]"
      ]
     },
     "execution_count": 27,
     "metadata": {},
     "output_type": "execute_result"
    }
   ],
   "source": [
    "X_test_ohe"
   ]
  },
  {
   "cell_type": "markdown",
   "metadata": {},
   "source": [
    "## Modelado y estimación de Error out (validación cruzada)"
   ]
  },
  {
   "cell_type": "code",
   "execution_count": 28,
   "metadata": {},
   "outputs": [],
   "source": [
    "from sklearn import linear_model\n",
    "from sklearn import model_selection\n",
    "from sklearn.metrics import classification_report\n",
    "from sklearn.metrics import confusion_matrix\n",
    "from sklearn.metrics import accuracy_score, log_loss"
   ]
  },
  {
   "cell_type": "markdown",
   "metadata": {},
   "source": [
    "### Automatización de validación cruzada para cierto modelo"
   ]
  },
  {
   "cell_type": "code",
   "execution_count": 29,
   "metadata": {},
   "outputs": [],
   "source": [
    "from sklearn.pipeline import make_pipeline\n",
    "def train_model(model, model_name, x_tr, y_tr, scoring):\n",
    "    print(model_name)\n",
    "\n",
    "    kfold = model_selection.KFold(n_splits=5)\n",
    "    cv_results = model_selection.cross_validate(model, x_tr, y_tr, cv=kfold, scoring=scoring)\n",
    "    \n",
    "    for i in range(len(scoring)):\n",
    "        sc = scoring[i]\n",
    "        msg = \"Estimación de E_out (%s): promedio %f desv. std (%f)\" % (sc, cv_results['test_' + sc].mean(), cv_results['test_' + sc].std())\n",
    "        print(msg)\n",
    "        print(cv_results['test_' + sc], '\\n')"
   ]
  },
  {
   "cell_type": "markdown",
   "metadata": {},
   "source": [
    "### Regresión logística"
   ]
  },
  {
   "cell_type": "code",
   "execution_count": 31,
   "metadata": {
    "scrolled": false
   },
   "outputs": [
    {
     "name": "stdout",
     "output_type": "stream",
     "text": [
      "Logistic Regression\n"
     ]
    },
    {
     "name": "stderr",
     "output_type": "stream",
     "text": [
      "[Parallel(n_jobs=1)]: Using backend SequentialBackend with 1 concurrent workers.\n",
      "[Parallel(n_jobs=1)]: Done   1 out of   1 | elapsed:   27.5s finished\n",
      "[Parallel(n_jobs=1)]: Using backend SequentialBackend with 1 concurrent workers.\n",
      "[Parallel(n_jobs=1)]: Done   1 out of   1 | elapsed:   20.9s finished\n",
      "[Parallel(n_jobs=1)]: Using backend SequentialBackend with 1 concurrent workers.\n",
      "[Parallel(n_jobs=1)]: Done   1 out of   1 | elapsed:   22.0s finished\n",
      "[Parallel(n_jobs=1)]: Using backend SequentialBackend with 1 concurrent workers.\n",
      "[Parallel(n_jobs=1)]: Done   1 out of   1 | elapsed:   24.4s finished\n",
      "[Parallel(n_jobs=1)]: Using backend SequentialBackend with 1 concurrent workers.\n"
     ]
    },
    {
     "name": "stdout",
     "output_type": "stream",
     "text": [
      "Estimación de E_out (accuracy): promedio 0.392163 desv. std (0.003013)\n",
      "[0.3896033  0.39293946 0.39300012 0.38832949 0.39694286] \n",
      "\n",
      "Estimación de E_out (neg_log_loss): promedio -1.685052 desv. std (0.006966)\n",
      "[-1.6842102  -1.69122611 -1.67836726 -1.69462091 -1.6768335 ] \n",
      "\n"
     ]
    },
    {
     "name": "stderr",
     "output_type": "stream",
     "text": [
      "[Parallel(n_jobs=1)]: Done   1 out of   1 | elapsed:   23.3s finished\n"
     ]
    }
   ],
   "source": [
    "model_lr = linear_model.LogisticRegression(penalty = 'l2', max_iter = 1000, verbose = True)\n",
    "pipeline = make_pipeline(MinMaxScaler(), model_lr)\n",
    "model_name = 'Logistic Regression'\n",
    "scoring = ['accuracy', 'neg_log_loss']\n",
    "train_model(pipeline, model_name, X_train_ohe, y_train,  scoring)"
   ]
  },
  {
   "cell_type": "code",
   "execution_count": 32,
   "metadata": {},
   "outputs": [
    {
     "name": "stderr",
     "output_type": "stream",
     "text": [
      "[Parallel(n_jobs=1)]: Using backend SequentialBackend with 1 concurrent workers.\n",
      "[Parallel(n_jobs=1)]: Done   1 out of   1 | elapsed:   26.9s finished\n"
     ]
    },
    {
     "data": {
      "text/plain": [
       "Pipeline(steps=[('minmaxscaler', MinMaxScaler()),\n",
       "                ('logisticregression',\n",
       "                 LogisticRegression(max_iter=1000, verbose=True))])"
      ]
     },
     "execution_count": 32,
     "metadata": {},
     "output_type": "execute_result"
    }
   ],
   "source": [
    "pipeline.fit(X_train_ohe, y_train)"
   ]
  },
  {
   "cell_type": "markdown",
   "metadata": {},
   "source": [
    "### Clasificador SGD"
   ]
  },
  {
   "cell_type": "code",
   "execution_count": 33,
   "metadata": {},
   "outputs": [
    {
     "name": "stdout",
     "output_type": "stream",
     "text": [
      "SGD Classifier\n",
      "Estimación de E_out (accuracy): promedio 0.398738 desv. std (0.001431)\n",
      "[0.39815601 0.40106757 0.3988839  0.39663957 0.39894456] \n",
      "\n",
      "Estimación de E_out (neg_log_loss): promedio -1.689540 desv. std (0.006621)\n",
      "[-1.68994241 -1.69476599 -1.68290529 -1.6986217  -1.68146297] \n",
      "\n"
     ]
    }
   ],
   "source": [
    "model_sgd_lr = linear_model.SGDClassifier(loss='log', penalty='l2', max_iter=1000, tol=1e-5)\n",
    "pipeline_sgd = make_pipeline(MinMaxScaler(), model_sgd_lr)\n",
    "model_name = 'SGD Classifier'\n",
    "scoring = ['accuracy', 'neg_log_loss']\n",
    "train_model(pipeline_sgd, model_name, X_train_ohe, y_train, scoring)"
   ]
  },
  {
   "cell_type": "code",
   "execution_count": 34,
   "metadata": {},
   "outputs": [
    {
     "data": {
      "text/plain": [
       "Pipeline(steps=[('minmaxscaler', MinMaxScaler()),\n",
       "                ('sgdclassifier', SGDClassifier(loss='log', tol=1e-05))])"
      ]
     },
     "execution_count": 34,
     "metadata": {},
     "output_type": "execute_result"
    }
   ],
   "source": [
    "pipeline_sgd.fit(X_train_ohe, y_train)"
   ]
  },
  {
   "cell_type": "markdown",
   "metadata": {},
   "source": [
    "## Asignación 2 &#x1F921;\n",
    "\n",
    "Evalue su modelo final en el conjunto de test (X_test y y_test). Su práctica será evaluada acorde a las técnicas aplicadas, la estimación de $E_{out}$, el valor de $E_{test}$, y contra las métricas obtenidas por sus compañeros."
   ]
  },
  {
   "cell_type": "markdown",
   "metadata": {},
   "source": [
    "### Regresión logística"
   ]
  },
  {
   "cell_type": "code",
   "execution_count": 35,
   "metadata": {},
   "outputs": [
    {
     "name": "stdout",
     "output_type": "stream",
     "text": [
      "accuracy_score 39.432245541671726 \n",
      "log_loss_score 1.6867650653365824\n"
     ]
    }
   ],
   "source": [
    "# Predicting\n",
    "pred_probs = pipeline.predict_proba(X_test_ohe)\n",
    "pred = pipeline.predict(X_test_ohe)\n",
    "# Scores\n",
    "acc = accuracy_score(y_test, pred) * 100\n",
    "log_losss = log_loss(y_test, pred_probs)\n",
    "print('accuracy_score', acc, '\\nlog_loss_score', log_losss)"
   ]
  },
  {
   "cell_type": "code",
   "execution_count": 36,
   "metadata": {},
   "outputs": [
    {
     "name": "stdout",
     "output_type": "stream",
     "text": [
      "Classification Report\n"
     ]
    },
    {
     "name": "stderr",
     "output_type": "stream",
     "text": [
      "C:\\Users\\USUARIO DELL\\anaconda3\\lib\\site-packages\\sklearn\\metrics\\_classification.py:1318: UndefinedMetricWarning: Precision and F-score are ill-defined and being set to 0.0 in labels with no predicted samples. Use `zero_division` parameter to control this behavior.\n",
      "  _warn_prf(average, modifier, msg_start, len(result))\n",
      "C:\\Users\\USUARIO DELL\\anaconda3\\lib\\site-packages\\sklearn\\metrics\\_classification.py:1318: UndefinedMetricWarning: Precision and F-score are ill-defined and being set to 0.0 in labels with no predicted samples. Use `zero_division` parameter to control this behavior.\n",
      "  _warn_prf(average, modifier, msg_start, len(result))\n"
     ]
    },
    {
     "name": "stdout",
     "output_type": "stream",
     "text": [
      "              precision    recall  f1-score   support\n",
      "\n",
      "           1       0.00      0.00      0.00      1476\n",
      "          10       0.00      0.00      0.00      9086\n",
      "          11       0.00      0.00      0.00       677\n",
      "           2       0.00      0.00      0.00      1488\n",
      "           3       0.39      0.34      0.36     16351\n",
      "           4       0.39      0.75      0.52     27312\n",
      "           5       0.00      0.00      0.00      3123\n",
      "           6       0.31      0.17      0.22      2545\n",
      "           7       0.43      0.34      0.38     13623\n",
      "           8       0.00      0.00      0.00       854\n",
      "           9       0.38      0.21      0.27      5895\n",
      "\n",
      "    accuracy                           0.39     82430\n",
      "   macro avg       0.17      0.17      0.16     82430\n",
      "weighted avg       0.31      0.39      0.33     82430\n",
      "\n"
     ]
    },
    {
     "name": "stderr",
     "output_type": "stream",
     "text": [
      "C:\\Users\\USUARIO DELL\\anaconda3\\lib\\site-packages\\sklearn\\metrics\\_classification.py:1318: UndefinedMetricWarning: Precision and F-score are ill-defined and being set to 0.0 in labels with no predicted samples. Use `zero_division` parameter to control this behavior.\n",
      "  _warn_prf(average, modifier, msg_start, len(result))\n"
     ]
    }
   ],
   "source": [
    "# Classification Report\n",
    "print('Classification Report')\n",
    "print(classification_report(y_test, pred))"
   ]
  },
  {
   "cell_type": "markdown",
   "metadata": {},
   "source": [
    "### Clasificador SGD"
   ]
  },
  {
   "cell_type": "code",
   "execution_count": 37,
   "metadata": {},
   "outputs": [
    {
     "name": "stdout",
     "output_type": "stream",
     "text": [
      "accuracy_score 39.77556714788305 \n",
      "log_loss_score 1.6885262112744728\n"
     ]
    }
   ],
   "source": [
    "# Predicting\n",
    "pred_probs = pipeline_sgd.predict_proba(X_test_ohe)\n",
    "pred = pipeline_sgd.predict(X_test_ohe)\n",
    "# Scores\n",
    "acc = accuracy_score(y_test, pred) * 100\n",
    "log_losss = log_loss(y_test, pred_probs)\n",
    "print('accuracy_score', acc, '\\nlog_loss_score', log_losss)"
   ]
  },
  {
   "cell_type": "code",
   "execution_count": 38,
   "metadata": {},
   "outputs": [
    {
     "name": "stdout",
     "output_type": "stream",
     "text": [
      "Classification Report\n"
     ]
    },
    {
     "name": "stderr",
     "output_type": "stream",
     "text": [
      "C:\\Users\\USUARIO DELL\\anaconda3\\lib\\site-packages\\sklearn\\metrics\\_classification.py:1318: UndefinedMetricWarning: Precision and F-score are ill-defined and being set to 0.0 in labels with no predicted samples. Use `zero_division` parameter to control this behavior.\n",
      "  _warn_prf(average, modifier, msg_start, len(result))\n",
      "C:\\Users\\USUARIO DELL\\anaconda3\\lib\\site-packages\\sklearn\\metrics\\_classification.py:1318: UndefinedMetricWarning: Precision and F-score are ill-defined and being set to 0.0 in labels with no predicted samples. Use `zero_division` parameter to control this behavior.\n",
      "  _warn_prf(average, modifier, msg_start, len(result))\n"
     ]
    },
    {
     "name": "stdout",
     "output_type": "stream",
     "text": [
      "              precision    recall  f1-score   support\n",
      "\n",
      "           1       0.00      0.00      0.00      1476\n",
      "          10       0.00      0.00      0.00      9086\n",
      "          11       0.00      0.00      0.00       677\n",
      "           2       0.00      0.00      0.00      1488\n",
      "           3       0.39      0.35      0.37     16351\n",
      "           4       0.39      0.81      0.53     27312\n",
      "           5       0.00      0.00      0.00      3123\n",
      "           6       0.31      0.11      0.16      2545\n",
      "           7       0.44      0.29      0.35     13623\n",
      "           8       0.00      0.00      0.00       854\n",
      "           9       0.44      0.15      0.22      5895\n",
      "\n",
      "    accuracy                           0.40     82430\n",
      "   macro avg       0.18      0.15      0.15     82430\n",
      "weighted avg       0.32      0.40      0.33     82430\n",
      "\n"
     ]
    },
    {
     "name": "stderr",
     "output_type": "stream",
     "text": [
      "C:\\Users\\USUARIO DELL\\anaconda3\\lib\\site-packages\\sklearn\\metrics\\_classification.py:1318: UndefinedMetricWarning: Precision and F-score are ill-defined and being set to 0.0 in labels with no predicted samples. Use `zero_division` parameter to control this behavior.\n",
      "  _warn_prf(average, modifier, msg_start, len(result))\n"
     ]
    }
   ],
   "source": [
    "# Classification Report\n",
    "print('Classification Report')\n",
    "print(classification_report(y_test, pred))"
   ]
  }
 ],
 "metadata": {
  "kernelspec": {
   "display_name": "Python 3 (ipykernel)",
   "language": "python",
   "name": "python3"
  },
  "language_info": {
   "codemirror_mode": {
    "name": "ipython",
    "version": 3
   },
   "file_extension": ".py",
   "mimetype": "text/x-python",
   "name": "python",
   "nbconvert_exporter": "python",
   "pygments_lexer": "ipython3",
   "version": "3.9.12"
  }
 },
 "nbformat": 4,
 "nbformat_minor": 4
}
