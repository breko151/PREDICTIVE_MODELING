{
 "cells": [
  {
   "cell_type": "markdown",
   "id": "7e401f67",
   "metadata": {},
   "source": [
    "Suárez Pérez Juan Pablo"
   ]
  },
  {
   "cell_type": "code",
   "execution_count": 1,
   "id": "043e54c8",
   "metadata": {},
   "outputs": [],
   "source": [
    "import numpy as np"
   ]
  },
  {
   "cell_type": "code",
   "execution_count": 10,
   "id": "0ff3bba8",
   "metadata": {},
   "outputs": [],
   "source": [
    "def generate_data(size_data, size_variables = 1):\n",
    "    sample = np.random.rand(size_data, size_variables)\n",
    "    w = np.random.rand(1, size_variables + 1)\n",
    "    new_sample = np.array([np.append(data, 1) for data in sample])\n",
    "    target = np.array([w @ data for data in new_sample])\n",
    "    return new_sample, target, w"
   ]
  },
  {
   "cell_type": "code",
   "execution_count": 11,
   "id": "a35730cf",
   "metadata": {},
   "outputs": [],
   "source": [
    "sample, target, w = generate_data(10)"
   ]
  },
  {
   "cell_type": "code",
   "execution_count": 12,
   "id": "7b2f2af8",
   "metadata": {},
   "outputs": [
    {
     "data": {
      "text/plain": [
       "array([[0.3796238 , 1.        ],\n",
       "       [0.84932756, 1.        ],\n",
       "       [0.5716419 , 1.        ],\n",
       "       [0.17822287, 1.        ],\n",
       "       [0.23286351, 1.        ],\n",
       "       [0.72513703, 1.        ],\n",
       "       [0.85466692, 1.        ],\n",
       "       [0.83638844, 1.        ],\n",
       "       [0.26666398, 1.        ],\n",
       "       [0.99357567, 1.        ]])"
      ]
     },
     "execution_count": 12,
     "metadata": {},
     "output_type": "execute_result"
    }
   ],
   "source": [
    "sample"
   ]
  },
  {
   "cell_type": "code",
   "execution_count": 13,
   "id": "6ca1503b",
   "metadata": {},
   "outputs": [],
   "source": [
    "import matplotlib.pyplot as plt"
   ]
  },
  {
   "cell_type": "code",
   "execution_count": 14,
   "id": "699d97ae",
   "metadata": {},
   "outputs": [],
   "source": [
    "x = [element[0] for element in sample]"
   ]
  },
  {
   "cell_type": "code",
   "execution_count": 19,
   "id": "bc4eecd5",
   "metadata": {},
   "outputs": [
    {
     "data": {
      "text/plain": [
       "<matplotlib.collections.PathCollection at 0x209eb5045b0>"
      ]
     },
     "execution_count": 19,
     "metadata": {},
     "output_type": "execute_result"
    },
    {
     "data": {
      "image/png": "[encoded data removed]",
      "text/plain": [
       "<Figure size 432x288 with 1 Axes>"
      ]
     },
     "metadata": {
      "needs_background": "light"
     },
     "output_type": "display_data"
    }
   ],
   "source": [
    "plt.scatter(x, target)"
   ]
  },
  {
   "cell_type": "code",
   "execution_count": 21,
   "id": "7effa199",
   "metadata": {},
   "outputs": [],
   "source": [
    "def train(sample, target):\n",
    "    w = np.zeros(len(sample[0][0]))\n",
    "    for i in range(10):\n",
    "        predict = [w @ element for element in sample]\n",
    "        "
   ]
  },
  {
   "cell_type": "code",
   "execution_count": 3,
   "id": "53b578fd",
   "metadata": {},
   "outputs": [
    {
     "data": {
      "text/plain": [
       "6"
      ]
     },
     "execution_count": 3,
     "metadata": {},
     "output_type": "execute_result"
    }
   ],
   "source": [
    "a = np.array([2,2])\n",
    "b = np.array([1,2])\n",
    "a @ b"
   ]
  },
  {
   "cell_type": "code",
   "execution_count": 20,
   "id": "a7dd1af8",
   "metadata": {},
   "outputs": [
    {
     "data": {
      "text/plain": [
       "2"
      ]
     },
     "execution_count": 20,
     "metadata": {},
     "output_type": "execute_result"
    }
   ],
   "source": [
    "len(a)"
   ]
  },
  {
   "cell_type": "code",
   "execution_count": 8,
   "id": "e0bc351e",
   "metadata": {},
   "outputs": [
    {
     "data": {
      "text/plain": [
       "array([2, 2, 1])"
      ]
     },
     "execution_count": 8,
     "metadata": {},
     "output_type": "execute_result"
    }
   ],
   "source": [
    "np.append(a,1)"
   ]
  },
  {
   "cell_type": "code",
   "execution_count": 9,
   "id": "05472839",
   "metadata": {},
   "outputs": [
    {
     "data": {
      "text/plain": [
       "array([2, 2])"
      ]
     },
     "execution_count": 9,
     "metadata": {},
     "output_type": "execute_result"
    }
   ],
   "source": [
    "a"
   ]
  }
 ],
 "metadata": {
  "kernelspec": {
   "display_name": "Python 3 (ipykernel)",
   "language": "python",
   "name": "python3"
  },
  "language_info": {
   "codemirror_mode": {
    "name": "ipython",
    "version": 3
   },
   "file_extension": ".py",
   "mimetype": "text/x-python",
   "name": "python",
   "nbconvert_exporter": "python",
   "pygments_lexer": "ipython3",
   "version": "3.9.12"
  }
 },
 "nbformat": 4,
 "nbformat_minor": 5
}
